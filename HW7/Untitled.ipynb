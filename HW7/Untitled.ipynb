{
 "cells": [
  {
   "cell_type": "code",
   "execution_count": 1,
   "metadata": {},
   "outputs": [],
   "source": [
    "from gurobipy import *\n",
    "import pandas as pd"
   ]
  },
  {
   "cell_type": "code",
   "execution_count": 2,
   "metadata": {},
   "outputs": [],
   "source": [
    "# loading data\n",
    "features = ['FromNode', 'ToNode', 'cost']\n",
    "df = pd.read_csv('shortest_path_data.txt', names = features, delimiter = \" \", skiprows = 1)"
   ]
  },
  {
   "cell_type": "code",
   "execution_count": 3,
   "metadata": {},
   "outputs": [
    {
     "name": "stdout",
     "output_type": "stream",
     "text": [
      "Academic license - for non-commercial use only\n"
     ]
    }
   ],
   "source": [
    "# create a new model\n",
    "myModel = Model(\"HW7_Q1\")\n",
    "\n",
    "# create decision vats and integrate them into the model\n",
    "fromNodes = df['FromNode']\n",
    "toNodes = df['ToNode']\n",
    "arcs = df['cost']\n",
    "cost = [[0.0 for i in range (9)] for j in range (9)]\n",
    "myVars = [[0 for i in range (9)] for j in range (9)]\n",
    "for index in range (len(arcs)):\n",
    "    i = fromNodes[index]\n",
    "    j = toNodes[index]\n",
    "    cost[i][j] = arcs[index]\n",
    "    curVar = myModel.addVar( vtype = GRB.CONTINUOUS, name = \"x\" + str(i) + str(j))\n",
    "    myVars[i][j] = curVar\n",
    "myModel.update()"
   ]
  },
  {
   "cell_type": "code",
   "execution_count": 4,
   "metadata": {},
   "outputs": [],
   "source": [
    "# create a linear expression for the objective\n",
    "objExpr = LinExpr()\n",
    "for i in range (1,9):\n",
    "    for j in range (1,9):\n",
    "        curVar = myVars[i][j]\n",
    "        objExpr += cost[i][j] * curVar\n",
    "myModel.setObjective(objExpr, GRB.MINIMIZE)"
   ]
  },
  {
   "cell_type": "code",
   "execution_count": 5,
   "metadata": {},
   "outputs": [],
   "source": [
    "## Constraint for Node 1 and Node 8\n",
    "constExpr = LinExpr()\n",
    "for j in range (1, 9):\n",
    "    curVar = myVars[1][j]\n",
    "    constExpr += 1 * curVar\n",
    "myModel.addConstr(lhs = constExpr, sense = GRB.EQUAL, rhs = 1, name = \"Node_1\")\n",
    "constExpr = LinExpr()\n",
    "for j in range (1, 9):\n",
    "    curVar = myVars[j][8]\n",
    "    constExpr += -1 * curVar\n",
    "myModel.addConstr(lhs = constExpr, sense = GRB.EQUAL, rhs = -1, name = \"Node_8\")\n",
    "\n",
    "## Constraint for Node 2 ~ Node 7\n",
    "for i in range (2,8):\n",
    "    constExpr = LinExpr()\n",
    "    for j in range (1,9):\n",
    "        constExpr += myVars[i][j] - myVars[j][i]\n",
    "    myModel.addConstr( lhs = constExpr , sense = GRB.EQUAL , rhs = 0 , name = \"Node_\"+str(i))"
   ]
  },
  {
   "cell_type": "code",
   "execution_count": 6,
   "metadata": {},
   "outputs": [
    {
     "name": "stdout",
     "output_type": "stream",
     "text": [
      "Optimize a model with 8 rows, 16 columns and 32 nonzeros\n",
      "Coefficient statistics:\n",
      "  Matrix range     [1e+00, 1e+00]\n",
      "  Objective range  [1e+00, 8e+00]\n",
      "  Bounds range     [0e+00, 0e+00]\n",
      "  RHS range        [1e+00, 1e+00]\n",
      "Presolve removed 2 rows and 2 columns\n",
      "Presolve time: 0.01s\n",
      "Presolved: 6 rows, 14 columns, 28 nonzeros\n",
      "\n",
      "Iteration    Objective       Primal Inf.    Dual Inf.      Time\n",
      "       0    3.9920000e+00   2.004000e+00   0.000000e+00      0s\n",
      "       3    8.0000000e+00   0.000000e+00   0.000000e+00      0s\n",
      "\n",
      "Solved in 3 iterations and 0.03 seconds\n",
      "Optimal objective  8.000000000e+00\n",
      "\n",
      "Optimal Objective: 8.0\n",
      "\n",
      "Optimal Solution:\n",
      "x12 0.0\n",
      "x13 1.0\n",
      "x23 0.0\n",
      "x24 0.0\n",
      "x25 0.0\n",
      "x34 0.0\n",
      "x35 1.0\n",
      "x36 0.0\n",
      "x45 0.0\n",
      "x46 0.0\n",
      "x47 0.0\n",
      "x56 1.0\n",
      "x57 0.0\n",
      "x67 0.0\n",
      "x68 1.0\n",
      "x78 0.0\n"
     ]
    }
   ],
   "source": [
    "# integrate objective and constraints into the model\n",
    "myModel.update()\n",
    "# write the model in a file to make sure it is constructed correctly\n",
    "myModel.write(filename = \"HW7_Q1.lp\")\n",
    "# optimize the model\n",
    "myModel.optimize()\n",
    "\n",
    "# print optimal objective and optimal solution\n",
    "print(\"\\nOptimal Objective: \" + str(myModel.ObjVal))\n",
    "print(\"\\nOptimal Solution:\")\n",
    "allVars = myModel.getVars()\n",
    "for curVar in allVars:\n",
    "    print (curVar.varName + \" \" + str(curVar.x))"
   ]
  }
 ],
 "metadata": {
  "kernelspec": {
   "display_name": "Python [conda env:py27]",
   "language": "python",
   "name": "conda-env-py27-py"
  },
  "language_info": {
   "codemirror_mode": {
    "name": "ipython",
    "version": 2
   },
   "file_extension": ".py",
   "mimetype": "text/x-python",
   "name": "python",
   "nbconvert_exporter": "python",
   "pygments_lexer": "ipython2",
   "version": "2.7.15"
  }
 },
 "nbformat": 4,
 "nbformat_minor": 2
}
